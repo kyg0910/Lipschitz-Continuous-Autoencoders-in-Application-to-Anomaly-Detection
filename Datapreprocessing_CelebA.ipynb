{
 "cells": [
  {
   "cell_type": "code",
   "execution_count": 1,
   "metadata": {},
   "outputs": [
    {
     "name": "stderr",
     "output_type": "stream",
     "text": [
      "/home/sonic/anaconda3/lib/python3.6/importlib/_bootstrap.py:219: RuntimeWarning: numpy.dtype size changed, may indicate binary incompatibility. Expected 96, got 88\n",
      "  return f(*args, **kwds)\n",
      "/home/sonic/anaconda3/lib/python3.6/importlib/_bootstrap.py:219: RuntimeWarning: numpy.dtype size changed, may indicate binary incompatibility. Expected 96, got 88\n",
      "  return f(*args, **kwds)\n"
     ]
    }
   ],
   "source": [
    "import numpy as np\n",
    "import os\n",
    "from PIL import Image\n",
    "import pandas as pd\n",
    "\n",
    "np.random.seed(1)\n",
    "\n",
    "###(1) you should make directory\n",
    "if os.path.exists('data_celeba') is False:\n",
    "    os.makedirs('data_celeba')"
   ]
  },
  {
   "cell_type": "code",
   "execution_count": 2,
   "metadata": {},
   "outputs": [
    {
     "data": {
      "text/plain": [
       "\"\\n  (2) download celeba data with the link :  http://mmlab.ie.cuhk.edu.hk/projects/CelebA.html\\n\\n\\n  (3) After you download celeba data\\n\\n    you will have \\n    \\n    1. 'list_attr_celeba.csv'\\n    \\n    2. 'img_align_celeba'\\n    \\n   place those datasets into 'data_celeba' folder\\n\\n\""
      ]
     },
     "execution_count": 2,
     "metadata": {},
     "output_type": "execute_result"
    }
   ],
   "source": [
    "\n",
    "\n",
    "\"\"\"\n",
    "  (2) download celeba data with the link :  http://mmlab.ie.cuhk.edu.hk/projects/CelebA.html\n",
    "\n",
    "\n",
    "  (3) After you download celeba data\n",
    "\n",
    "    you will have \n",
    "    \n",
    "    1. 'list_attr_celeba.csv'\n",
    "    \n",
    "    2. 'img_align_celeba'\n",
    "    \n",
    "   place those datasets into 'data_celeba' folder\n",
    "\n",
    "\"\"\""
   ]
  },
  {
   "cell_type": "code",
   "execution_count": 3,
   "metadata": {},
   "outputs": [],
   "source": [
    "# (4) run this.\n",
    "df = pd.read_csv('data_celeba/list_attr_celeba.csv')\n",
    "df = np.array(df)\n",
    "\n",
    "path = 'data_celeba/img_align_celeba'\n",
    "x = np.zeros((len(os.listdir(path)), 64, 64, 3), dtype = np.uint8)\n",
    "y = []\n",
    "\n",
    "i=0\n",
    "for filename in sorted(os.listdir(path)):\n",
    "    try:\n",
    "        sub_path = path + '/' + filename\n",
    "        im = Image.open(sub_path)\n",
    "        H, W , _ = np.shape(im)\n",
    "        center_crop = im.crop((round(W/2)-70, round(H/2)-70, round(W/2)+70, round(H/2)+70))\n",
    "        x[i, :, :, :] = np.array(center_crop.resize((64, 64)), dtype = np.uint8)\n",
    "        im.close()\n",
    "\n",
    "        y.append(df[np.int(filename[:-4])-1, :])\n",
    "        i += 1\n",
    "    except:\n",
    "        print('Error occured during processing %s' % sub_path)\n",
    "\n",
    "n = np.shape(x)[0]\n",
    "\n",
    "np.save('data_celeba/CelebA_64resol', x)\n",
    "np.save('data_celeba/attributes', y)"
   ]
  },
  {
   "cell_type": "markdown",
   "metadata": {},
   "source": [
    "# split celebA dataset."
   ]
  },
  {
   "cell_type": "code",
   "execution_count": 4,
   "metadata": {},
   "outputs": [
    {
     "name": "stdout",
     "output_type": "stream",
     "text": [
      "Index of the whole celebs (total 202599 images):  [     0      1      2 ... 202596 202597 202598]\n",
      "Index of male celebs (total 84434 images):  [     2      6      7 ... 202589 202595 202596]\n",
      "Index of sampled male celebs (total 25000 images) [ 24594 157555  34722 ... 116184 156743  92651]\n"
     ]
    }
   ],
   "source": [
    "label = pd.read_csv('data_celeba/list_attr_celeba.csv').values\n",
    "y_male = label[:, 21]\n",
    "idx = np.arange(n)\n",
    "print('Index of the whole celebs (total %d images): ' % len(idx), idx)\n",
    "idx = np.asarray([t for t in idx if y_male[t] == 1])\n",
    "print('Index of male celebs (total %d images): ' % len(idx), idx)\n",
    "np.save('data_celeba/celeba_index_male.npy', idx)\n",
    "\n",
    "#making dataset only 25000 male\n",
    "idx = np.random.choice(idx, 25000, replace = False)\n",
    "print('Index of sampled male celebs (total %d images)' % len(idx), idx)\n",
    "np.save('data_celeba/celeba_index_male_25000.npy', idx)"
   ]
  }
 ],
 "metadata": {
  "anaconda-cloud": {},
  "kernelspec": {
   "display_name": "Python [default]",
   "language": "python",
   "name": "python3"
  },
  "language_info": {
   "codemirror_mode": {
    "name": "ipython",
    "version": 3
   },
   "file_extension": ".py",
   "mimetype": "text/x-python",
   "name": "python",
   "nbconvert_exporter": "python",
   "pygments_lexer": "ipython3",
   "version": "3.6.5"
  }
 },
 "nbformat": 4,
 "nbformat_minor": 1
}
